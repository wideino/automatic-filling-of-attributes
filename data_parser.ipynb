{
 "cells": [
  {
   "cell_type": "code",
   "execution_count": 17,
   "id": "18402792-f3ca-40e6-aa0a-8383cf838239",
   "metadata": {},
   "outputs": [],
   "source": [
    "import requests as r\n",
    "from bs4 import BeautifulSoup\n",
    "from selenium import webdriver\n",
    "from PIL import Image\n",
    "from io import BytesIO\n",
    "\n",
    "import os\n",
    "import shutil\n",
    "import re\n",
    "import keyboard"
   ]
  },
  {
   "cell_type": "code",
   "execution_count": 18,
   "id": "01e42b47",
   "metadata": {},
   "outputs": [],
   "source": [
    "DATA_PATH = './wallpaper-pictures'\n",
    "farpost_url = 'https://www.farpost.ru'"
   ]
  },
  {
   "cell_type": "code",
   "execution_count": 19,
   "id": "38d955f5",
   "metadata": {},
   "outputs": [],
   "source": [
    "driver = webdriver.Edge()"
   ]
  },
  {
   "cell_type": "code",
   "execution_count": 14,
   "id": "0883ac9d",
   "metadata": {},
   "outputs": [],
   "source": [
    "'''\n",
    "Parsing method with waiting for captcha processing by user\n",
    "- press q if can't pass the captcha and you want to skip this page\n",
    "- press c if the captcha is missing or has been passed\n",
    "'''\n",
    "\n",
    "def wait_user_decision():\n",
    "    while True:\n",
    "        if keyboard.is_pressed('q'):\n",
    "            return 0\n",
    "        elif keyboard.is_pressed('c'):\n",
    "            return 1\n",
    "\n",
    "\n",
    "def selenium_parse(url):\n",
    "    driver.get(url)\n",
    "    res = driver.page_source\n",
    "\n",
    "    soup = BeautifulSoup(res, 'html.parser')\n",
    "    tags = soup.find_all()\n",
    "    for tag in tags:\n",
    "        if 'class' in tag.attrs and any(map(lambda cls: re.search(r'\\b\\w*cap(?:tcha)?\\d*\\b', cls), tag.attrs['class'])):\n",
    "            des = wait_user_decision()\n",
    "            return selenium_parse(url) if des else None\n",
    "\n",
    "    return soup"
   ]
  },
  {
   "cell_type": "code",
   "execution_count": 41,
   "id": "1ebfdaaa-c01f-44be-b1ef-f9cef0af2c1d",
   "metadata": {},
   "outputs": [
    {
     "ename": "NoSuchWindowException",
     "evalue": "Message: no such window: target window already closed\nfrom unknown error: web view not found\n  (Session info: MicrosoftEdge=126.0.2592.102)\nStacktrace:\n\tGetHandleVerifier [0x00007FF715798132+13538]\n\tMicrosoft::Applications::Events::EventProperty::~EventProperty [0x00007FF715721DE9+595465]\n\t(No symbol) [0x00007FF71553E6CF]\n\t(No symbol) [0x00007FF71551B33A]\n\t(No symbol) [0x00007FF7155A82AD]\n\t(No symbol) [0x00007FF7155BAAFF]\n\t(No symbol) [0x00007FF7155A1C63]\n\t(No symbol) [0x00007FF71557766E]\n\t(No symbol) [0x00007FF71557683C]\n\t(No symbol) [0x00007FF715577221]\n\tMicrosoft::Applications::Events::EventProperty::to_string [0x00007FF7159596D4+1099860]\n\tMicrosoft::Applications::Events::EventProperty::~EventProperty [0x00007FF71569D8FC+53532]\n\tMicrosoft::Applications::Events::EventProperty::~EventProperty [0x00007FF715690E25+1605]\n\tMicrosoft::Applications::Events::EventProperty::to_string [0x00007FF715958665+1095653]\n\tMicrosoft::Applications::Events::ILogConfiguration::operator* [0x00007FF71572C961+27777]\n\tMicrosoft::Applications::Events::ILogConfiguration::operator* [0x00007FF715726CE4+4100]\n\tMicrosoft::Applications::Events::ILogConfiguration::operator* [0x00007FF715726E1B+4411]\n\tMicrosoft::Applications::Events::EventProperty::~EventProperty [0x00007FF71571CFA0+575424]\n\tBaseThreadInitThunk [0x00007FF9D65B257D+29]\n\tRtlUserThreadStart [0x00007FF9D6FAAF28+40]\n",
     "output_type": "error",
     "traceback": [
      "\u001b[1;31m---------------------------------------------------------------------------\u001b[0m",
      "\u001b[1;31mNoSuchWindowException\u001b[0m                     Traceback (most recent call last)",
      "Cell \u001b[1;32mIn[41], line 6\u001b[0m\n\u001b[0;32m      1\u001b[0m \u001b[38;5;124;03m'''\u001b[39;00m\n\u001b[0;32m      2\u001b[0m \u001b[38;5;124;03mGetting all available wallpaper pictures\u001b[39;00m\n\u001b[0;32m      3\u001b[0m \u001b[38;5;124;03m'''\u001b[39;00m\n\u001b[0;32m      5\u001b[0m url \u001b[38;5;241m=\u001b[39m \u001b[38;5;124m'\u001b[39m\u001b[38;5;124mhttps://www.farpost.ru/home/materials/ceiling/+/Обои/\u001b[39m\u001b[38;5;124m'\u001b[39m\n\u001b[1;32m----> 6\u001b[0m soup \u001b[38;5;241m=\u001b[39m selenium_parse(url)\n\u001b[0;32m      7\u001b[0m options_table \u001b[38;5;241m=\u001b[39m soup\u001b[38;5;241m.\u001b[39mfind(\u001b[38;5;124m'\u001b[39m\u001b[38;5;124mdiv\u001b[39m\u001b[38;5;124m'\u001b[39m, {\u001b[38;5;124m'\u001b[39m\u001b[38;5;124mname\u001b[39m\u001b[38;5;124m'\u001b[39m: \u001b[38;5;124m'\u001b[39m\u001b[38;5;124mwallpaperPicture\u001b[39m\u001b[38;5;124m'\u001b[39m})\n",
      "Cell \u001b[1;32mIn[14], line 16\u001b[0m, in \u001b[0;36mselenium_parse\u001b[1;34m(url)\u001b[0m\n\u001b[0;32m     15\u001b[0m \u001b[38;5;28;01mdef\u001b[39;00m \u001b[38;5;21mselenium_parse\u001b[39m(url):\n\u001b[1;32m---> 16\u001b[0m     driver\u001b[38;5;241m.\u001b[39mget(url)\n\u001b[0;32m     17\u001b[0m     res \u001b[38;5;241m=\u001b[39m driver\u001b[38;5;241m.\u001b[39mpage_source\n\u001b[0;32m     19\u001b[0m     soup \u001b[38;5;241m=\u001b[39m BeautifulSoup(res, \u001b[38;5;124m'\u001b[39m\u001b[38;5;124mhtml.parser\u001b[39m\u001b[38;5;124m'\u001b[39m)\n",
      "File \u001b[1;32mc:\\Users\\widei\\anaconda3\\Lib\\site-packages\\selenium\\webdriver\\remote\\webdriver.py:363\u001b[0m, in \u001b[0;36mWebDriver.get\u001b[1;34m(self, url)\u001b[0m\n\u001b[0;32m    361\u001b[0m \u001b[38;5;28;01mdef\u001b[39;00m \u001b[38;5;21mget\u001b[39m(\u001b[38;5;28mself\u001b[39m, url: \u001b[38;5;28mstr\u001b[39m) \u001b[38;5;241m-\u001b[39m\u001b[38;5;241m>\u001b[39m \u001b[38;5;28;01mNone\u001b[39;00m:\n\u001b[0;32m    362\u001b[0m \u001b[38;5;250m    \u001b[39m\u001b[38;5;124;03m\"\"\"Loads a web page in the current browser session.\"\"\"\u001b[39;00m\n\u001b[1;32m--> 363\u001b[0m     \u001b[38;5;28mself\u001b[39m\u001b[38;5;241m.\u001b[39mexecute(Command\u001b[38;5;241m.\u001b[39mGET, {\u001b[38;5;124m\"\u001b[39m\u001b[38;5;124murl\u001b[39m\u001b[38;5;124m\"\u001b[39m: url})\n",
      "File \u001b[1;32mc:\\Users\\widei\\anaconda3\\Lib\\site-packages\\selenium\\webdriver\\remote\\webdriver.py:354\u001b[0m, in \u001b[0;36mWebDriver.execute\u001b[1;34m(self, driver_command, params)\u001b[0m\n\u001b[0;32m    352\u001b[0m response \u001b[38;5;241m=\u001b[39m \u001b[38;5;28mself\u001b[39m\u001b[38;5;241m.\u001b[39mcommand_executor\u001b[38;5;241m.\u001b[39mexecute(driver_command, params)\n\u001b[0;32m    353\u001b[0m \u001b[38;5;28;01mif\u001b[39;00m response:\n\u001b[1;32m--> 354\u001b[0m     \u001b[38;5;28mself\u001b[39m\u001b[38;5;241m.\u001b[39merror_handler\u001b[38;5;241m.\u001b[39mcheck_response(response)\n\u001b[0;32m    355\u001b[0m     response[\u001b[38;5;124m\"\u001b[39m\u001b[38;5;124mvalue\u001b[39m\u001b[38;5;124m\"\u001b[39m] \u001b[38;5;241m=\u001b[39m \u001b[38;5;28mself\u001b[39m\u001b[38;5;241m.\u001b[39m_unwrap_value(response\u001b[38;5;241m.\u001b[39mget(\u001b[38;5;124m\"\u001b[39m\u001b[38;5;124mvalue\u001b[39m\u001b[38;5;124m\"\u001b[39m, \u001b[38;5;28;01mNone\u001b[39;00m))\n\u001b[0;32m    356\u001b[0m     \u001b[38;5;28;01mreturn\u001b[39;00m response\n",
      "File \u001b[1;32mc:\\Users\\widei\\anaconda3\\Lib\\site-packages\\selenium\\webdriver\\remote\\errorhandler.py:229\u001b[0m, in \u001b[0;36mErrorHandler.check_response\u001b[1;34m(self, response)\u001b[0m\n\u001b[0;32m    227\u001b[0m         alert_text \u001b[38;5;241m=\u001b[39m value[\u001b[38;5;124m\"\u001b[39m\u001b[38;5;124malert\u001b[39m\u001b[38;5;124m\"\u001b[39m]\u001b[38;5;241m.\u001b[39mget(\u001b[38;5;124m\"\u001b[39m\u001b[38;5;124mtext\u001b[39m\u001b[38;5;124m\"\u001b[39m)\n\u001b[0;32m    228\u001b[0m     \u001b[38;5;28;01mraise\u001b[39;00m exception_class(message, screen, stacktrace, alert_text)  \u001b[38;5;66;03m# type: ignore[call-arg]  # mypy is not smart enough here\u001b[39;00m\n\u001b[1;32m--> 229\u001b[0m \u001b[38;5;28;01mraise\u001b[39;00m exception_class(message, screen, stacktrace)\n",
      "\u001b[1;31mNoSuchWindowException\u001b[0m: Message: no such window: target window already closed\nfrom unknown error: web view not found\n  (Session info: MicrosoftEdge=126.0.2592.102)\nStacktrace:\n\tGetHandleVerifier [0x00007FF715798132+13538]\n\tMicrosoft::Applications::Events::EventProperty::~EventProperty [0x00007FF715721DE9+595465]\n\t(No symbol) [0x00007FF71553E6CF]\n\t(No symbol) [0x00007FF71551B33A]\n\t(No symbol) [0x00007FF7155A82AD]\n\t(No symbol) [0x00007FF7155BAAFF]\n\t(No symbol) [0x00007FF7155A1C63]\n\t(No symbol) [0x00007FF71557766E]\n\t(No symbol) [0x00007FF71557683C]\n\t(No symbol) [0x00007FF715577221]\n\tMicrosoft::Applications::Events::EventProperty::to_string [0x00007FF7159596D4+1099860]\n\tMicrosoft::Applications::Events::EventProperty::~EventProperty [0x00007FF71569D8FC+53532]\n\tMicrosoft::Applications::Events::EventProperty::~EventProperty [0x00007FF715690E25+1605]\n\tMicrosoft::Applications::Events::EventProperty::to_string [0x00007FF715958665+1095653]\n\tMicrosoft::Applications::Events::ILogConfiguration::operator* [0x00007FF71572C961+27777]\n\tMicrosoft::Applications::Events::ILogConfiguration::operator* [0x00007FF715726CE4+4100]\n\tMicrosoft::Applications::Events::ILogConfiguration::operator* [0x00007FF715726E1B+4411]\n\tMicrosoft::Applications::Events::EventProperty::~EventProperty [0x00007FF71571CFA0+575424]\n\tBaseThreadInitThunk [0x00007FF9D65B257D+29]\n\tRtlUserThreadStart [0x00007FF9D6FAAF28+40]\n"
     ]
    }
   ],
   "source": [
    "'''\n",
    "Getting all available wallpaper pictures\n",
    "'''\n",
    "\n",
    "url = 'https://www.farpost.ru/home/materials/ceiling/+/Обои/'\n",
    "soup = selenium_parse(url)\n",
    "options_table = soup.find('div', {'name': 'wallpaperPicture'})\n"
   ]
  },
  {
   "cell_type": "code",
   "execution_count": null,
   "id": "9bb77283-c7a3-4dc4-bff2-c86d1bb0cc19",
   "metadata": {},
   "outputs": [
    {
     "data": {
      "text/plain": [
       "[('bez_risunka',\n",
       "  'https://www.farpost.ru/home/materials/ceiling/+/%D0%9E%D0%B1%D0%BE%D0%B8/?wallpaperPicture%5B%5D=bez_risunka'),\n",
       " ('abstrakciya',\n",
       "  'https://www.farpost.ru/home/materials/ceiling/+/%D0%9E%D0%B1%D0%BE%D0%B8/?wallpaperPicture%5B%5D=abstrakciya')]"
      ]
     },
     "execution_count": 6,
     "metadata": {},
     "output_type": "execute_result"
    }
   ],
   "source": [
    "'''\n",
    "Getting pages urls with ads containing \n",
    "wallpapers with pictures of a certain type\n",
    "'''\n",
    "\n",
    "picture_options = options_table.find_all('a', {'class': 'option'})\n",
    "picture_to_section_url = {}\n",
    "\n",
    "for option in picture_options:\n",
    "    picture_name = option.get('data-value')\n",
    "    url = option.get('href')\n",
    "    picture_to_section_url[picture_name] = url\n",
    "\n",
    "list(picture_to_section_url.items())[:2]"
   ]
  },
  {
   "cell_type": "code",
   "execution_count": 32,
   "id": "abbfe71d",
   "metadata": {},
   "outputs": [],
   "source": [
    "'''\n",
    "Continue filling folders with images if \n",
    "previous session was interrupted\n",
    "'''\n",
    "def creation_time(file):\n",
    "        return os.path.getctime(os.path.join(DATA_PATH, file))\n",
    "\n",
    "\n",
    "if os.path.exists(DATA_PATH):\n",
    "    existing_folders = os.listdir(DATA_PATH)\n",
    "    start_idx = len(existing_folders)\n",
    "\n",
    "    sorted_folders = sorted(existing_folders, key=creation_time)\n",
    "    shutil.rmtree(DATA_PATH + '/' + sorted_folders[-1])\n",
    "else:\n",
    "    os.makedirs(DATA_PATH)\n",
    "    start_idx = 0"
   ]
  },
  {
   "cell_type": "code",
   "execution_count": 39,
   "id": "ba0d3584-50e8-4537-b6b5-c5305cc428e8",
   "metadata": {},
   "outputs": [],
   "source": [
    "'''\n",
    "Getting urls of all ads by picture types\n",
    "'''\n",
    "\n",
    "picture_to_adv_urls = {}\n",
    "\n",
    "for picture_name, url in list(picture_to_section_url.items())[start_idx:]:\n",
    "    soup = selenium_parse(url)\n",
    "\n",
    "    adv_urls = soup.find_all('a', {'class': 'bulletinLink'})\n",
    "    adv_urls = list(map(lambda x: farpost_url + x.get('href'), adv_urls))\n",
    "    picture_to_adv_urls[picture_name] = adv_urls"
   ]
  },
  {
   "cell_type": "code",
   "execution_count": 40,
   "id": "b9920d03",
   "metadata": {},
   "outputs": [],
   "source": [
    "'''\n",
    "Reading images from each ad and splitting into folders\n",
    "'''\n",
    "\n",
    "for picture_name, adv_urls in list(picture_to_adv_urls.items()):\n",
    "    picture_dir = DATA_PATH + '/' + picture_name\n",
    "    os.mkdir(picture_dir)\n",
    "\n",
    "    for i, adv_url in enumerate(adv_urls):\n",
    "        soup = selenium_parse(adv_url)\n",
    "        if soup is None:\n",
    "            continue\n",
    "        \n",
    "        images_container = soup.find('div', {'class': 'image-gallery__big-image-container'})\n",
    "        if images_container is None:\n",
    "            continue\n",
    "        images = images_container.find_all('img', {'class': 'image-gallery__big-image'})\n",
    "        images_urls = list(map(lambda x: x.get('src'), images))\n",
    "\n",
    "        for j, image_url in enumerate(images_urls):\n",
    "            res = r.get(image_url) # because there will be no captcha here\n",
    "            image = Image.open(BytesIO(res.content))\n",
    "            image.save(picture_dir + f'/{i}{j}.jpg')"
   ]
  },
  {
   "cell_type": "code",
   "execution_count": null,
   "id": "d7f0dc1e",
   "metadata": {},
   "outputs": [],
   "source": [
    "driver.quit()"
   ]
  }
 ],
 "metadata": {
  "kernelspec": {
   "display_name": "Python 3 (ipykernel)",
   "language": "python",
   "name": "python3"
  },
  "language_info": {
   "codemirror_mode": {
    "name": "ipython",
    "version": 3
   },
   "file_extension": ".py",
   "mimetype": "text/x-python",
   "name": "python",
   "nbconvert_exporter": "python",
   "pygments_lexer": "ipython3",
   "version": "3.12.4"
  }
 },
 "nbformat": 4,
 "nbformat_minor": 5
}
